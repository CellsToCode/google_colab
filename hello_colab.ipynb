{
  "nbformat": 4,
  "nbformat_minor": 0,
  "metadata": {
    "colab": {
      "name": "hello_colab.ipynb",
      "provenance": [],
      "collapsed_sections": [],
      "authorship_tag": "ABX9TyNkIO0o4CDFkFvP7hb94g2I",
      "include_colab_link": true
    },
    "kernelspec": {
      "name": "python3",
      "display_name": "Python 3"
    },
    "language_info": {
      "name": "python"
    }
  },
  "cells": [
    {
      "cell_type": "markdown",
      "metadata": {
        "id": "view-in-github",
        "colab_type": "text"
      },
      "source": [
        "<a href=\"https://colab.research.google.com/github/CellsToCode/google_colab/blob/main/hello_colab.ipynb\" target=\"_parent\"><img src=\"https://colab.research.google.com/assets/colab-badge.svg\" alt=\"Open In Colab\"/></a>"
      ]
    },
    {
      "cell_type": "markdown",
      "source": [
        "# Welcome to Google Colab!"
      ],
      "metadata": {
        "id": "PSoYzmgj75QG"
      }
    },
    {
      "cell_type": "markdown",
      "source": [
        "Notebook used in tutorial on [www.cellstocode.com](https://www.cellstocode.com) — a website dedicated to teaching spreadsheet users how to use Python in Colab!"
      ],
      "metadata": {
        "id": "kr7iqJg60ZBQ"
      }
    },
    {
      "cell_type": "code",
      "source": [
        "# Import data manipulation packages\n",
        "import numpy as np\n",
        "import pandas as pd\n",
        "\n",
        "# Import matplotlib graphing library\n",
        "import matplotlib.pyplot as plt"
      ],
      "metadata": {
        "id": "o3g0Fryp8BiI"
      },
      "execution_count": null,
      "outputs": []
    },
    {
      "cell_type": "code",
      "source": [
        "# Load the data from the sample_data folder built into Google Colab\n",
        "data = pd.read_csv(\"/content/sample_data/california_housing_train.csv\")"
      ],
      "metadata": {
        "id": "KuR-Ty7T8Nm-"
      },
      "execution_count": null,
      "outputs": []
    },
    {
      "cell_type": "code",
      "source": [
        "# Look at the first 5 rows of the data\n",
        "data.head()"
      ],
      "metadata": {
        "id": "AhcNpGq18Tpu"
      },
      "execution_count": null,
      "outputs": []
    },
    {
      "cell_type": "code",
      "source": [
        "# Look at the histogram of the data\n",
        "data['median_house_value'].plot(kind='hist', edgecolor='Black')"
      ],
      "metadata": {
        "id": "Q7BFAXVQDXod"
      },
      "execution_count": null,
      "outputs": []
    }
  ]
}