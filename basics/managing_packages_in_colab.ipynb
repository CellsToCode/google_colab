{
  "nbformat": 4,
  "nbformat_minor": 0,
  "metadata": {
    "colab": {
      "provenance": [],
      "authorship_tag": "ABX9TyP169g5gPbm27R7tJezdYuN",
      "include_colab_link": true
    },
    "kernelspec": {
      "name": "python3",
      "display_name": "Python 3"
    },
    "language_info": {
      "name": "python"
    }
  },
  "cells": [
    {
      "cell_type": "markdown",
      "metadata": {
        "id": "view-in-github",
        "colab_type": "text"
      },
      "source": [
        "<a href=\"https://colab.research.google.com/github/CellsToCode/google_colab/blob/main/basics/managing_packages_in_colab.ipynb\" target=\"_parent\"><img src=\"https://colab.research.google.com/assets/colab-badge.svg\" alt=\"Open In Colab\"/></a>"
      ]
    },
    {
      "cell_type": "markdown",
      "source": [
        "# Installing and Managing Python Packages in Colab - A Quick Overview\n",
        "[cellstocode.com](https://www.cellstocode.com)\n",
        "\n",
        "Read the full step-by-step tutorial here: [How to Install and Manage Python Packages in Google Colaboratory](https://cellstocode.com/how-to-install-and-manage-python-packages-in-google-colab/)"
      ],
      "metadata": {
        "id": "dNomxQbnpWlp"
      }
    },
    {
      "cell_type": "markdown",
      "source": [
        "## View currently installed packages"
      ],
      "metadata": {
        "id": "d_fNFFDO1Zud"
      }
    },
    {
      "cell_type": "code",
      "source": [
        "!pip list"
      ],
      "metadata": {
        "id": "KqyTFrZE1EJX"
      },
      "execution_count": null,
      "outputs": []
    },
    {
      "cell_type": "markdown",
      "source": [
        "## Installing Packages"
      ],
      "metadata": {
        "id": "hBSWlLnS1gPD"
      }
    },
    {
      "cell_type": "code",
      "source": [
        "# Installing packages using: !pip install package-name\n",
        "!pip install squarify\n",
        "\n",
        "import squarify\n",
        "import matplotlib.pyplot as plt\n",
        "\n",
        "# Create the data for the treemap \n",
        "lifetime_gross = [2923706026, 2799439100, 2314859608, 2261385180, 2071310218]\n",
        "\n",
        "movie_title = [\"1. Avatar\", \"2. Avengers: Endgame\", \"3. Avatar: The Way of Water\"\n",
        "              , \"4. Titanic\", \"5. Star Wars: The Force Awakens\"]\n",
        "  \n",
        "squarify.plot(sizes = lifetime_gross\n",
        "              , label = movie_title\n",
        "              , pad = 2\n",
        "              )\n",
        "\n",
        "plt.title('Top 5 Highest Grossing Movies')\n",
        "plt.axis(\"off\")"
      ],
      "metadata": {
        "colab": {
          "base_uri": "https://localhost:8080/",
          "height": 532
        },
        "id": "WlS7P6ZF108y",
        "outputId": "091bc7b7-7c66-4712-e36e-51c5938847e2"
      },
      "execution_count": 1,
      "outputs": [
        {
          "output_type": "stream",
          "name": "stdout",
          "text": [
            "Looking in indexes: https://pypi.org/simple, https://us-python.pkg.dev/colab-wheels/public/simple/\n",
            "Collecting squarify\n",
            "  Downloading squarify-0.4.3-py3-none-any.whl (4.3 kB)\n",
            "Installing collected packages: squarify\n",
            "Successfully installed squarify-0.4.3\n"
          ]
        },
        {
          "output_type": "execute_result",
          "data": {
            "text/plain": [
              "(0.0, 100.0, 0.0, 100.0)"
            ]
          },
          "metadata": {},
          "execution_count": 1
        },
        {
          "output_type": "display_data",
          "data": {
            "text/plain": [
              "<Figure size 640x480 with 1 Axes>"
            ],
            "image/png": "[encoded data removed]"
          },
          "metadata": {}
        }
      ]
    },
    {
      "cell_type": "markdown",
      "source": [
        "## Installing a specific package version"
      ],
      "metadata": {
        "id": "KjXLUIGxp7wS"
      }
    },
    {
      "cell_type": "code",
      "source": [
        "# Installing packages using: !pip install package-name==version#\n",
        "!pip install squarify==0.4.2"
      ],
      "metadata": {
        "id": "p3smPpPtp7Gj"
      },
      "execution_count": null,
      "outputs": []
    },
    {
      "cell_type": "markdown",
      "source": [
        "## Installing packages from GitHub"
      ],
      "metadata": {
        "id": "p3-8JTE5qElG"
      }
    },
    {
      "cell_type": "code",
      "source": [
        "!pip install git+https://github.com/home-assistant/core.git"
      ],
      "metadata": {
        "id": "hAn8eqnXgOwY"
      },
      "execution_count": null,
      "outputs": []
    },
    {
      "cell_type": "markdown",
      "source": [
        "## Updating installed packages"
      ],
      "metadata": {
        "id": "89CX8ZgbqLu0"
      }
    },
    {
      "cell_type": "code",
      "source": [
        "!pip install pandas --upgrade"
      ],
      "metadata": {
        "id": "tnal-54viZwg"
      },
      "execution_count": null,
      "outputs": []
    },
    {
      "cell_type": "markdown",
      "source": [
        "## Uninstalling/removing packages"
      ],
      "metadata": {
        "id": "6votBExdqT-z"
      }
    },
    {
      "cell_type": "code",
      "source": [
        "!pip uninstall pandas -y"
      ],
      "metadata": {
        "id": "LvoDHbGBkUIM"
      },
      "execution_count": null,
      "outputs": []
    },
    {
      "cell_type": "code",
      "source": [
        "!pip install pandas==1.5.3"
      ],
      "metadata": {
        "id": "kNUWJKdJkQD5"
      },
      "execution_count": null,
      "outputs": []
    },
    {
      "cell_type": "markdown",
      "source": [
        "## Save current packages to `requirements.txt`"
      ],
      "metadata": {
        "id": "2wMMJ8gLqgXX"
      }
    },
    {
      "cell_type": "code",
      "source": [
        "!pip list --format=freeze > requirements.txt"
      ],
      "metadata": {
        "id": "cUMNo4LSrKsh"
      },
      "execution_count": null,
      "outputs": []
    },
    {
      "cell_type": "markdown",
      "source": [
        "## Load `requirements.txt` file into runtime"
      ],
      "metadata": {
        "id": "fMwPC5VBqk1K"
      }
    },
    {
      "cell_type": "code",
      "source": [
        "!pip install -r \"/content/requirements.txt\""
      ],
      "metadata": {
        "id": "yxid6WstnDCS"
      },
      "execution_count": null,
      "outputs": []
    }
  ]
}